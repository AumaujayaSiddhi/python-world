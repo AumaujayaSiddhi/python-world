{
 "cells": [
  {
   "cell_type": "markdown",
   "id": "deebc3b5",
   "metadata": {
    "vscode": {
     "languageId": "plaintext"
    }
   },
   "source": [
    "# Regular Expressions in Python"
   ]
  },
  {
   "cell_type": "markdown",
   "id": "05ed32a9",
   "metadata": {},
   "source": [
    "Note: Documentation for the `re` module can be found at [Python's official documentation](https://docs.python.org/3/library/re.html)."
   ]
  },
  {
   "cell_type": "markdown",
   "id": "0b4ab7cf",
   "metadata": {},
   "source": [
    "### What is a Regular Expression?\n",
    "A regular expression is a representation of a set of strings. It is used for string searching and manipulation, allowing you to match, search, replace, and split strings based on specific patterns.\n",
    "\n",
    "### General way to work with Regular Expressions\n",
    "1. **Define a Pattern**: Create a search pattern using rules of a respective programming language rules.\n",
    "2. **Compile the Pattern**: Use a regular expression module to compile the search pattern into an object that can be used for matching.\n",
    "3. **Search or Match**: Use the compiled pattern to search for matches in a string.\n",
    "4. **Extract or Replace**: Once matches are found, you can extract the matched strings or replace them with new strings."
   ]
  },
  {
   "cell_type": "markdown",
   "id": "a9469183",
   "metadata": {},
   "source": [
    "Note: Compiling a pattern is optional in Python, as the `re` module allows you to use patterns directly in search functions. But compiling can improve performance if the same pattern is used multiple times."
   ]
  },
  {
   "cell_type": "markdown",
   "id": "cb13a126",
   "metadata": {},
   "source": [
    "### How to Use Regular Expressions in Python\n",
    "The process is same for all programming languages as described above, but the syntax and functions may vary slightly. In Python, you typically use the `re` module to work with regular expressions.\n",
    "\n",
    "Here are some common functions provided by the `re` module:\n",
    "\n",
    "1. **re.search(pattern, string)**: Searches for the first occurrence of the pattern in the string.\n",
    "2. **re.match(pattern, string)**: Checks if the pattern matches the beginning of the string.\n",
    "3. **re.findall(pattern, string)**: Returns a list of all occurrences of the pattern in the string.\n",
    "4. **re.sub(pattern, replacement, string)**: Replaces occurrences of the pattern with the replacement string.\n",
    "5. **re.split(pattern, string)**: Splits the string by occurrences of the pattern.\n",
    "6. **re.compile(pattern)**: Compiles a regular expression pattern into a regex object, which can be used for matching.\n"
   ]
  },
  {
   "cell_type": "markdown",
   "id": "d3205505",
   "metadata": {},
   "source": [
    "## Rules of Regular Expressions\n"
   ]
  },
  {
   "cell_type": "markdown",
   "id": "a02a4783",
   "metadata": {},
   "source": [
    "### Metacharacters"
   ]
  },
  {
   "cell_type": "markdown",
   "id": "ceae395f",
   "metadata": {},
   "source": [
    "#### Basic Metacharacters"
   ]
  },
  {
   "cell_type": "markdown",
   "id": "03c5c6ab",
   "metadata": {},
   "source": [
    "1. **Dot (.)**: In the default mode, this matches any character except a newline. If the [DOTALL](https://docs.python.org/3/library/re.html#re.DOTALL) flag has been specified, this matches any character including a newline.\n",
    "   - Example: `a.c` matches `abc`, `a1c`, but not `ac` or `a\\nc`.\n",
    "\n",
    "2. **Caret (^)**: Matches the start of the string, and in [MULTILINE](https://docs.python.org/3/library/re.html#re.MULTILINE) mode also matches immediately after each newline.\n",
    "   - Example: `^abc` matches `abc` at the start of a string.\n",
    "\n",
    "3. **Dollar Sign ($)**: Matches the end of the string or just before the newline at the end of the string, and in MULTILINE mode also matches before a newline.\n",
    "   - Example: `abc$` matches `abc` at the end of a string.\n",
    "\n",
    "4. **Asterisk (*)**: Causes the resulting RE to match 0 or more repetitions of the preceding RE, as many repetitions as are possible. \n",
    "   - Example: `ab*c` matches `ac`, `abc`, `abbc`, etc.\n",
    "\n",
    "5. **Plus Sign (+)**: Causes the resulting RE to match 1 or more repetitions of the preceding RE.\n",
    "   - Example: `ab+c` matches `abc`, `abbc`, but not `ac`.\n",
    "\n",
    "6. **Question Mark (?)**: Causes the resulting RE to match 0 or 1 repetitions of the preceding RE.\n",
    "   - Example: `ab?c` matches `ac` or `abc`, but not `abbc`.\n",
    "\n",
    "7. **\\*?, +?, ??**: The '\\*', '+', and '?' quantifiers are all greedy; they match as much text as possible. Sometimes this behaviour isn’t desired; if the RE <.*> is matched against `<a> b <c>`, it will match the entire string, and not just `<a>`. Adding ? after the quantifier makes it perform the match in non-greedy or minimal fashion; as few characters as possible will be matched. Using the RE <.*?> will match only `<a>`.\n",
    "\n",
    "8. **\\*+, ++, ?+**:\n",
    "Like the '\\*', '+', and '?' quantifiers, those where '+' is appended also match as many times as possible. However, unas oppose to the true greedy quantifiers, these do not allow back-tracking when the expression following it fails to match. These are known as possessive quantifiers. \n",
    "   - Example, a*a will match 'aaaa' because the a* will match all 4 'a's, but, when the final 'a' is encountered, the expression is backtracked so that in the end the a* ends up matching 3 'a's total, and the fourth 'a' is matched by the final 'a'. However, when a*+a is used to match 'aaaa', the a*+ will match all 4 'a', but when the final 'a' fails to find any more characters to match, the expression cannot be backtracked and will thus fail to match.\n",
    "\n",
    "9. **Backslash (\\\\)**: Either escapes special characters (permitting you to match characters like '*', '?', and so forth), or signals a special sequence.\n",
    "   - Example: `\\.` matches a literal dot.\n",
    "\n"
   ]
  },
  {
   "cell_type": "markdown",
   "id": "808c0cc7",
   "metadata": {},
   "source": [
    "### Some Example Usages of above basic meta characters"
   ]
  },
  {
   "cell_type": "markdown",
   "id": "bdb75a58",
   "metadata": {},
   "source": [
    "Ex 1 : Simple search pattern to search for a word which contains the letter 'a' followed by any character and then the letter 'cd'"
   ]
  },
  {
   "cell_type": "code",
   "execution_count": 3,
   "id": "5d769603",
   "metadata": {},
   "outputs": [
    {
     "name": "stdout",
     "output_type": "stream",
     "text": [
      "Match found at index:6 and respective string using match.group() is: aacd\n"
     ]
    }
   ],
   "source": [
    "import re\n",
    "\n",
    "# 1. Define a pattern\n",
    "search_for = r\"a.cd\" # this pattern will match \"acd\", \"a1cd\", \"a2cd\", etc.\n",
    "search_in = \"xyz*-+aacdabdabcd.fsh\"\n",
    "\n",
    "# 2. compile the pattern\n",
    "match_obj = re.compile(search_for)\n",
    "\n",
    "# 3. search or match the pattern\n",
    "matched = match_obj.search(search_in) # search will give the first occurence of the match found\n",
    "\n",
    "# 4. Extract or replace the match found\n",
    "if matched:\n",
    "    print(f\"Match found at index:{matched.start()} and respective string using match.group() is: {matched.group()}\")\n",
    "else:\n",
    "    print(\"No match found\")"
   ]
  },
  {
   "cell_type": "markdown",
   "id": "26cf0230",
   "metadata": {},
   "source": [
    "Ex 2 : Write a regular expression for a following scenario\n",
    "1. Should start with A(capital),\n",
    "2. Followed by atleast 1 small b\n",
    "3. Followed by one % and one *\n",
    "4. Should end with z(small)\n",
    "\n",
    "Task is to findout if any of the following strings 'Abbbbb%*z', 'Ab*z$', 'Abbbbbbbbbb%*Z' matches the given "
   ]
  },
  {
   "cell_type": "code",
   "execution_count": 5,
   "id": "ec281e8f",
   "metadata": {},
   "outputs": [
    {
     "name": "stdout",
     "output_type": "stream",
     "text": [
      "Abbbbb%*z follows the regular expression ^Ab+%\\*z$\n",
      "Ab*z$ doesn't follow the regular expression ^Ab+%\\*z$\n",
      "Abbbbbbbbbb%*Z doesn't follow the regular expression ^Ab+%\\*z$\n"
     ]
    }
   ],
   "source": [
    "import re\n",
    "\n",
    "# 1. Define a pattern\n",
    "match_for = r\"^Ab+%\\*z$\"\n",
    "match_in = [\"Abbbbb%*z\", \"Ab*z$\", \"Abbbbbbbbbb%*Z\"]\n",
    "\n",
    "# 2. Compile the pattern\n",
    "compiled_obj = re.compile(match_for)\n",
    "\n",
    "# 3. full match the pattern\n",
    "for m in match_in:\n",
    "    match_obj = compiled_obj.fullmatch(m)\n",
    "    if match_obj:\n",
    "        print(f\"{m} follows the regular expression {match_for}\")\n",
    "    else:\n",
    "        print(f\"{m} doesn't follow the regular expression {match_for}\")"
   ]
  },
  {
   "cell_type": "markdown",
   "id": "bf01997a",
   "metadata": {},
   "source": [
    "Ex 3 : Write a regular expression for a following scenario\n",
    "1. Can start with any alpha numeric charcter\n",
    "2. Followed by atmost 1 *(asterisk)\n",
    "3. Followed by atleast 1 \\\\(backslash)\n",
    "4. Followed by any number of characters\n",
    "5. Should end with %\n",
    "\n",
    "Task is to find if any of the strings \"*\\\\\\\\abcdef%%\" matches the regular expression"
   ]
  },
  {
   "cell_type": "code",
   "execution_count": 9,
   "id": "99e7004c",
   "metadata": {},
   "outputs": [
    {
     "name": "stdout",
     "output_type": "stream",
     "text": [
      "*\\\\abcdef%% follows the regular expression \\*?\\\\+.*%$\n",
      "**\\ab% doesn't follow the regular expression \\*?\\\\+.*%$\n",
      "*\\% follows the regular expression \\*?\\\\+.*%$\n"
     ]
    }
   ],
   "source": [
    "import re\n",
    "\n",
    "# 1. Define a pattern\n",
    "match_for = r\"\\*?\\\\+.*%$\"\n",
    "match_in = [\"*\\\\\\\\abcdef%%\", \"**\\\\ab%\", \"*\\\\%\"]\n",
    "\n",
    "# 2. Compile the pattern\n",
    "compiled_obj = re.compile(match_for)\n",
    "\n",
    "# 3. full match the pattern\n",
    "for m in match_in:\n",
    "    match_obj = compiled_obj.fullmatch(m)\n",
    "    if match_obj:\n",
    "        print(f\"{m} follows the regular expression {match_for}\")\n",
    "    else:\n",
    "        print(f\"{m} doesn't follow the regular expression {match_for}\")"
   ]
  },
  {
   "cell_type": "markdown",
   "id": "2324a14a",
   "metadata": {},
   "source": []
  }
 ],
 "metadata": {
  "kernelspec": {
   "display_name": "Python 3",
   "language": "python",
   "name": "python3"
  },
  "language_info": {
   "codemirror_mode": {
    "name": "ipython",
    "version": 3
   },
   "file_extension": ".py",
   "mimetype": "text/x-python",
   "name": "python",
   "nbconvert_exporter": "python",
   "pygments_lexer": "ipython3",
   "version": "3.13.3"
  }
 },
 "nbformat": 4,
 "nbformat_minor": 5
}
